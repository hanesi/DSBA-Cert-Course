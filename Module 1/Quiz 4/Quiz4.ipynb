{
 "cells": [
  {
   "cell_type": "code",
   "execution_count": 16,
   "metadata": {},
   "outputs": [],
   "source": [
    "import pandas as pd\n",
    "import seaborn as sns\n",
    "import scipy"
   ]
  },
  {
   "cell_type": "code",
   "execution_count": 2,
   "metadata": {},
   "outputs": [],
   "source": [
    "df = pd.read_csv('SlumpTest.csv')"
   ]
  },
  {
   "cell_type": "code",
   "execution_count": 3,
   "metadata": {},
   "outputs": [
    {
     "data": {
      "text/html": [
       "<div>\n",
       "<style scoped>\n",
       "    .dataframe tbody tr th:only-of-type {\n",
       "        vertical-align: middle;\n",
       "    }\n",
       "\n",
       "    .dataframe tbody tr th {\n",
       "        vertical-align: top;\n",
       "    }\n",
       "\n",
       "    .dataframe thead th {\n",
       "        text-align: right;\n",
       "    }\n",
       "</style>\n",
       "<table border=\"1\" class=\"dataframe\">\n",
       "  <thead>\n",
       "    <tr style=\"text-align: right;\">\n",
       "      <th></th>\n",
       "      <th>Cement</th>\n",
       "      <th>Slag</th>\n",
       "      <th>Fly ash</th>\n",
       "      <th>Water</th>\n",
       "      <th>SP</th>\n",
       "      <th>Coarse</th>\n",
       "      <th>Fine</th>\n",
       "      <th>SLUMP</th>\n",
       "      <th>FLOW</th>\n",
       "      <th>Strength</th>\n",
       "    </tr>\n",
       "  </thead>\n",
       "  <tbody>\n",
       "    <tr>\n",
       "      <th>0</th>\n",
       "      <td>273.0</td>\n",
       "      <td>82.0</td>\n",
       "      <td>105.0</td>\n",
       "      <td>210.0</td>\n",
       "      <td>9.0</td>\n",
       "      <td>904.0</td>\n",
       "      <td>680.0</td>\n",
       "      <td>23.0</td>\n",
       "      <td>62.0</td>\n",
       "      <td>34.99</td>\n",
       "    </tr>\n",
       "    <tr>\n",
       "      <th>1</th>\n",
       "      <td>163.0</td>\n",
       "      <td>149.0</td>\n",
       "      <td>191.0</td>\n",
       "      <td>180.0</td>\n",
       "      <td>12.0</td>\n",
       "      <td>843.0</td>\n",
       "      <td>746.0</td>\n",
       "      <td>0.0</td>\n",
       "      <td>20.0</td>\n",
       "      <td>41.14</td>\n",
       "    </tr>\n",
       "    <tr>\n",
       "      <th>2</th>\n",
       "      <td>162.0</td>\n",
       "      <td>148.0</td>\n",
       "      <td>191.0</td>\n",
       "      <td>179.0</td>\n",
       "      <td>16.0</td>\n",
       "      <td>840.0</td>\n",
       "      <td>743.0</td>\n",
       "      <td>1.0</td>\n",
       "      <td>20.0</td>\n",
       "      <td>41.81</td>\n",
       "    </tr>\n",
       "    <tr>\n",
       "      <th>3</th>\n",
       "      <td>162.0</td>\n",
       "      <td>148.0</td>\n",
       "      <td>190.0</td>\n",
       "      <td>179.0</td>\n",
       "      <td>19.0</td>\n",
       "      <td>838.0</td>\n",
       "      <td>741.0</td>\n",
       "      <td>3.0</td>\n",
       "      <td>21.5</td>\n",
       "      <td>42.08</td>\n",
       "    </tr>\n",
       "    <tr>\n",
       "      <th>4</th>\n",
       "      <td>154.0</td>\n",
       "      <td>112.0</td>\n",
       "      <td>144.0</td>\n",
       "      <td>220.0</td>\n",
       "      <td>10.0</td>\n",
       "      <td>923.0</td>\n",
       "      <td>658.0</td>\n",
       "      <td>20.0</td>\n",
       "      <td>64.0</td>\n",
       "      <td>26.82</td>\n",
       "    </tr>\n",
       "  </tbody>\n",
       "</table>\n",
       "</div>"
      ],
      "text/plain": [
       "   Cement   Slag  Fly ash  Water    SP  Coarse   Fine  SLUMP  FLOW  Strength\n",
       "0   273.0   82.0    105.0  210.0   9.0   904.0  680.0   23.0  62.0     34.99\n",
       "1   163.0  149.0    191.0  180.0  12.0   843.0  746.0    0.0  20.0     41.14\n",
       "2   162.0  148.0    191.0  179.0  16.0   840.0  743.0    1.0  20.0     41.81\n",
       "3   162.0  148.0    190.0  179.0  19.0   838.0  741.0    3.0  21.5     42.08\n",
       "4   154.0  112.0    144.0  220.0  10.0   923.0  658.0   20.0  64.0     26.82"
      ]
     },
     "execution_count": 3,
     "metadata": {},
     "output_type": "execute_result"
    }
   ],
   "source": [
    "df.head()"
   ]
  },
  {
   "cell_type": "code",
   "execution_count": 4,
   "metadata": {},
   "outputs": [
    {
     "data": {
      "text/plain": [
       "0     26.42\n",
       "1     28.29\n",
       "2     29.77\n",
       "3     30.43\n",
       "4     30.97\n",
       "5     32.71\n",
       "6     33.51\n",
       "7     33.78\n",
       "8     34.99\n",
       "9     35.52\n",
       "10    36.19\n",
       "11    37.39\n",
       "12    38.46\n",
       "13    41.01\n",
       "14    41.14\n",
       "15    41.27\n",
       "16    41.81\n",
       "17    42.08\n",
       "18    44.08\n",
       "19    52.65\n",
       "dtype: float64"
      ]
     },
     "execution_count": 4,
     "metadata": {},
     "output_type": "execute_result"
    }
   ],
   "source": [
    "df.Strength.mode()"
   ]
  },
  {
   "cell_type": "code",
   "execution_count": 6,
   "metadata": {},
   "outputs": [
    {
     "data": {
      "text/plain": [
       "149.0145631067961"
      ]
     },
     "execution_count": 6,
     "metadata": {},
     "output_type": "execute_result"
    }
   ],
   "source": [
    "df['Fly ash'].mean()"
   ]
  },
  {
   "cell_type": "code",
   "execution_count": 7,
   "metadata": {},
   "outputs": [
    {
     "data": {
      "text/html": [
       "<div>\n",
       "<style scoped>\n",
       "    .dataframe tbody tr th:only-of-type {\n",
       "        vertical-align: middle;\n",
       "    }\n",
       "\n",
       "    .dataframe tbody tr th {\n",
       "        vertical-align: top;\n",
       "    }\n",
       "\n",
       "    .dataframe thead th {\n",
       "        text-align: right;\n",
       "    }\n",
       "</style>\n",
       "<table border=\"1\" class=\"dataframe\">\n",
       "  <thead>\n",
       "    <tr style=\"text-align: right;\">\n",
       "      <th></th>\n",
       "      <th>Cement</th>\n",
       "      <th>Slag</th>\n",
       "      <th>Fly ash</th>\n",
       "      <th>Water</th>\n",
       "      <th>SP</th>\n",
       "      <th>Coarse</th>\n",
       "      <th>Fine</th>\n",
       "      <th>SLUMP</th>\n",
       "      <th>FLOW</th>\n",
       "      <th>Strength</th>\n",
       "    </tr>\n",
       "  </thead>\n",
       "  <tbody>\n",
       "    <tr>\n",
       "      <th>Cement</th>\n",
       "      <td>1.000000</td>\n",
       "      <td>-0.243553</td>\n",
       "      <td>-0.486535</td>\n",
       "      <td>0.221091</td>\n",
       "      <td>-0.106387</td>\n",
       "      <td>-0.309857</td>\n",
       "      <td>0.056959</td>\n",
       "      <td>0.145913</td>\n",
       "      <td>0.186461</td>\n",
       "      <td>0.445725</td>\n",
       "    </tr>\n",
       "    <tr>\n",
       "      <th>Slag</th>\n",
       "      <td>-0.243553</td>\n",
       "      <td>1.000000</td>\n",
       "      <td>-0.322619</td>\n",
       "      <td>-0.026775</td>\n",
       "      <td>0.306504</td>\n",
       "      <td>-0.223792</td>\n",
       "      <td>-0.183522</td>\n",
       "      <td>-0.284037</td>\n",
       "      <td>-0.327231</td>\n",
       "      <td>-0.331588</td>\n",
       "    </tr>\n",
       "    <tr>\n",
       "      <th>Fly ash</th>\n",
       "      <td>-0.486535</td>\n",
       "      <td>-0.322619</td>\n",
       "      <td>1.000000</td>\n",
       "      <td>-0.241321</td>\n",
       "      <td>-0.143508</td>\n",
       "      <td>0.172620</td>\n",
       "      <td>-0.282854</td>\n",
       "      <td>-0.118621</td>\n",
       "      <td>-0.055423</td>\n",
       "      <td>0.444393</td>\n",
       "    </tr>\n",
       "    <tr>\n",
       "      <th>Water</th>\n",
       "      <td>0.221091</td>\n",
       "      <td>-0.026775</td>\n",
       "      <td>-0.241321</td>\n",
       "      <td>1.000000</td>\n",
       "      <td>-0.155456</td>\n",
       "      <td>-0.602201</td>\n",
       "      <td>0.114591</td>\n",
       "      <td>0.466568</td>\n",
       "      <td>0.632026</td>\n",
       "      <td>-0.254235</td>\n",
       "    </tr>\n",
       "    <tr>\n",
       "      <th>SP</th>\n",
       "      <td>-0.106387</td>\n",
       "      <td>0.306504</td>\n",
       "      <td>-0.143508</td>\n",
       "      <td>-0.155456</td>\n",
       "      <td>1.000000</td>\n",
       "      <td>-0.104159</td>\n",
       "      <td>0.058290</td>\n",
       "      <td>-0.212902</td>\n",
       "      <td>-0.176314</td>\n",
       "      <td>-0.037871</td>\n",
       "    </tr>\n",
       "    <tr>\n",
       "      <th>Coarse</th>\n",
       "      <td>-0.309857</td>\n",
       "      <td>-0.223792</td>\n",
       "      <td>0.172620</td>\n",
       "      <td>-0.602201</td>\n",
       "      <td>-0.104159</td>\n",
       "      <td>1.000000</td>\n",
       "      <td>-0.488537</td>\n",
       "      <td>-0.188157</td>\n",
       "      <td>-0.325787</td>\n",
       "      <td>-0.160684</td>\n",
       "    </tr>\n",
       "    <tr>\n",
       "      <th>Fine</th>\n",
       "      <td>0.056959</td>\n",
       "      <td>-0.183522</td>\n",
       "      <td>-0.282854</td>\n",
       "      <td>0.114591</td>\n",
       "      <td>0.058290</td>\n",
       "      <td>-0.488537</td>\n",
       "      <td>1.000000</td>\n",
       "      <td>0.202272</td>\n",
       "      <td>0.190370</td>\n",
       "      <td>-0.154484</td>\n",
       "    </tr>\n",
       "    <tr>\n",
       "      <th>SLUMP</th>\n",
       "      <td>0.145913</td>\n",
       "      <td>-0.284037</td>\n",
       "      <td>-0.118621</td>\n",
       "      <td>0.466568</td>\n",
       "      <td>-0.212902</td>\n",
       "      <td>-0.188157</td>\n",
       "      <td>0.202272</td>\n",
       "      <td>1.000000</td>\n",
       "      <td>0.906135</td>\n",
       "      <td>-0.223358</td>\n",
       "    </tr>\n",
       "    <tr>\n",
       "      <th>FLOW</th>\n",
       "      <td>0.186461</td>\n",
       "      <td>-0.327231</td>\n",
       "      <td>-0.055423</td>\n",
       "      <td>0.632026</td>\n",
       "      <td>-0.176314</td>\n",
       "      <td>-0.325787</td>\n",
       "      <td>0.190370</td>\n",
       "      <td>0.906135</td>\n",
       "      <td>1.000000</td>\n",
       "      <td>-0.124029</td>\n",
       "    </tr>\n",
       "    <tr>\n",
       "      <th>Strength</th>\n",
       "      <td>0.445725</td>\n",
       "      <td>-0.331588</td>\n",
       "      <td>0.444393</td>\n",
       "      <td>-0.254235</td>\n",
       "      <td>-0.037871</td>\n",
       "      <td>-0.160684</td>\n",
       "      <td>-0.154484</td>\n",
       "      <td>-0.223358</td>\n",
       "      <td>-0.124029</td>\n",
       "      <td>1.000000</td>\n",
       "    </tr>\n",
       "  </tbody>\n",
       "</table>\n",
       "</div>"
      ],
      "text/plain": [
       "            Cement      Slag   Fly ash     Water        SP    Coarse  \\\n",
       "Cement    1.000000 -0.243553 -0.486535  0.221091 -0.106387 -0.309857   \n",
       "Slag     -0.243553  1.000000 -0.322619 -0.026775  0.306504 -0.223792   \n",
       "Fly ash  -0.486535 -0.322619  1.000000 -0.241321 -0.143508  0.172620   \n",
       "Water     0.221091 -0.026775 -0.241321  1.000000 -0.155456 -0.602201   \n",
       "SP       -0.106387  0.306504 -0.143508 -0.155456  1.000000 -0.104159   \n",
       "Coarse   -0.309857 -0.223792  0.172620 -0.602201 -0.104159  1.000000   \n",
       "Fine      0.056959 -0.183522 -0.282854  0.114591  0.058290 -0.488537   \n",
       "SLUMP     0.145913 -0.284037 -0.118621  0.466568 -0.212902 -0.188157   \n",
       "FLOW      0.186461 -0.327231 -0.055423  0.632026 -0.176314 -0.325787   \n",
       "Strength  0.445725 -0.331588  0.444393 -0.254235 -0.037871 -0.160684   \n",
       "\n",
       "              Fine     SLUMP      FLOW  Strength  \n",
       "Cement    0.056959  0.145913  0.186461  0.445725  \n",
       "Slag     -0.183522 -0.284037 -0.327231 -0.331588  \n",
       "Fly ash  -0.282854 -0.118621 -0.055423  0.444393  \n",
       "Water     0.114591  0.466568  0.632026 -0.254235  \n",
       "SP        0.058290 -0.212902 -0.176314 -0.037871  \n",
       "Coarse   -0.488537 -0.188157 -0.325787 -0.160684  \n",
       "Fine      1.000000  0.202272  0.190370 -0.154484  \n",
       "SLUMP     0.202272  1.000000  0.906135 -0.223358  \n",
       "FLOW      0.190370  0.906135  1.000000 -0.124029  \n",
       "Strength -0.154484 -0.223358 -0.124029  1.000000  "
      ]
     },
     "execution_count": 7,
     "metadata": {},
     "output_type": "execute_result"
    }
   ],
   "source": [
    "df.corr()"
   ]
  },
  {
   "cell_type": "code",
   "execution_count": 8,
   "metadata": {},
   "outputs": [
    {
     "name": "stdout",
     "output_type": "stream",
     "text": [
      "0.14514038405194118\n",
      "-0.19307898415097388\n",
      "-0.6800185293875163\n",
      "0.2635322528213714\n",
      "1.1257534060163605\n",
      "0.12100863602483097\n",
      "0.265958236536922\n",
      "-1.112836631637757\n",
      "-0.5207049160682032\n",
      "0.1922345521351759\n"
     ]
    }
   ],
   "source": [
    "for i in df.columns:\n",
    "    print(df[i].skew())"
   ]
  },
  {
   "cell_type": "code",
   "execution_count": 9,
   "metadata": {},
   "outputs": [
    {
     "name": "stdout",
     "output_type": "stream",
     "text": [
      "0\n",
      "0\n",
      "0\n",
      "0\n",
      "0\n",
      "0\n",
      "0\n",
      "0\n",
      "0\n",
      "0\n"
     ]
    }
   ],
   "source": [
    "for i in df.columns:\n",
    "    print(df[i].isna().sum())"
   ]
  },
  {
   "cell_type": "code",
   "execution_count": 11,
   "metadata": {},
   "outputs": [
    {
     "data": {
      "text/plain": [
       "52"
      ]
     },
     "execution_count": 11,
     "metadata": {},
     "output_type": "execute_result"
    }
   ],
   "source": [
    "sum(df.FLOW.duplicated())"
   ]
  },
  {
   "cell_type": "code",
   "execution_count": 12,
   "metadata": {},
   "outputs": [
    {
     "data": {
      "text/plain": [
       "Cement      float64\n",
       "Slag        float64\n",
       "Fly ash     float64\n",
       "Water       float64\n",
       "SP          float64\n",
       "Coarse      float64\n",
       "Fine        float64\n",
       "SLUMP       float64\n",
       "FLOW        float64\n",
       "Strength    float64\n",
       "dtype: object"
      ]
     },
     "execution_count": 12,
     "metadata": {},
     "output_type": "execute_result"
    }
   ],
   "source": [
    "df.dtypes"
   ]
  },
  {
   "cell_type": "code",
   "execution_count": 15,
   "metadata": {},
   "outputs": [
    {
     "data": {
      "image/png": "[encoded data removed]",
      "text/plain": [
       "<Figure size 432x288 with 1 Axes>"
      ]
     },
     "metadata": {
      "needs_background": "light"
     },
     "output_type": "display_data"
    }
   ],
   "source": [
    "bp = sns.boxplot(y=df['Strength'])"
   ]
  },
  {
   "cell_type": "code",
   "execution_count": 17,
   "metadata": {},
   "outputs": [
    {
     "data": {
      "text/plain": [
       "103.5"
      ]
     },
     "execution_count": 17,
     "metadata": {},
     "output_type": "execute_result"
    }
   ],
   "source": [
    "scipy.stats.iqr(df.Fine)"
   ]
  },
  {
   "cell_type": "code",
   "execution_count": 18,
   "metadata": {},
   "outputs": [
    {
     "name": "stderr",
     "output_type": "stream",
     "text": [
      "/Users/ianhanes/opt/anaconda3/lib/python3.7/site-packages/seaborn/distributions.py:2551: FutureWarning: `distplot` is a deprecated function and will be removed in a future version. Please adapt your code to use either `displot` (a figure-level function with similar flexibility) or `histplot` (an axes-level function for histograms).\n",
      "  warnings.warn(msg, FutureWarning)\n"
     ]
    },
    {
     "data": {
      "image/png": "[encoded data removed]",
      "text/plain": [
       "<Figure size 432x288 with 1 Axes>"
      ]
     },
     "metadata": {
      "needs_background": "light"
     },
     "output_type": "display_data"
    }
   ],
   "source": [
    "dp = sns.distplot(df['Slag'])"
   ]
  },
  {
   "cell_type": "code",
   "execution_count": 21,
   "metadata": {},
   "outputs": [
    {
     "name": "stderr",
     "output_type": "stream",
     "text": [
      "/Users/ianhanes/opt/anaconda3/lib/python3.7/site-packages/seaborn/distributions.py:2551: FutureWarning: `distplot` is a deprecated function and will be removed in a future version. Please adapt your code to use either `displot` (a figure-level function with similar flexibility) or `histplot` (an axes-level function for histograms).\n",
      "  warnings.warn(msg, FutureWarning)\n"
     ]
    },
    {
     "data": {
      "image/png": "[encoded data removed]",
      "text/plain": [
       "<Figure size 432x288 with 1 Axes>"
      ]
     },
     "metadata": {
      "needs_background": "light"
     },
     "output_type": "display_data"
    }
   ],
   "source": [
    "dp = sns.distplot(df['Strength'], hist_kws=dict(cumulative=True), kde_kws=dict(cumulative=True))"
   ]
  },
  {
   "cell_type": "code",
   "execution_count": null,
   "metadata": {},
   "outputs": [],
   "source": []
  }
 ],
 "metadata": {
  "kernelspec": {
   "display_name": "Python 3",
   "language": "python",
   "name": "python3"
  },
  "language_info": {
   "codemirror_mode": {
    "name": "ipython",
    "version": 3
   },
   "file_extension": ".py",
   "mimetype": "text/x-python",
   "name": "python",
   "nbconvert_exporter": "python",
   "pygments_lexer": "ipython3",
   "version": "3.7.7"
  }
 },
 "nbformat": 4,
 "nbformat_minor": 4
}
